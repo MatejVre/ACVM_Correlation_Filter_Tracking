{
 "cells": [
  {
   "cell_type": "code",
   "execution_count": 2,
   "metadata": {},
   "outputs": [],
   "source": [
    "import numpy as np\n",
    "import cv2\n",
    "from ex3_utils import *\n",
    "from ex2_utils import *\n",
    "import matplotlib.pyplot as plt"
   ]
  },
  {
   "cell_type": "code",
   "execution_count": 22,
   "metadata": {},
   "outputs": [
    {
     "name": "stdout",
     "output_type": "stream",
     "text": [
      "(43, 113)\n",
      "(113, 43)\n",
      "P_hat magnitude min: 0.004331581188979341, max: 722.605777090409\n",
      "G_hat magnitude min: 0.0013353444987488704, max: 6.283185374416905\n",
      "[9.99958750e-01 6.06535492e-01 1.35353118e-01 1.11016289e-02\n",
      " 3.27815698e-04 7.98036720e-06 9.48347798e-06 8.33429238e-06\n",
      " 1.27203434e-05 1.15626609e-05 1.23643326e-05 1.08545408e-05\n",
      " 1.01954351e-05 1.22889802e-05 8.81927483e-06 1.30305114e-05\n",
      " 8.66500930e-06 1.18056083e-05 8.04954624e-06 9.59897613e-06\n",
      " 8.14200022e-06 1.20770008e-05 1.00076567e-05 1.08921918e-05\n",
      " 8.15720430e-06 9.07022051e-06 8.40010131e-06 1.06075159e-05\n",
      " 7.96428854e-06 1.17611935e-05 7.79690669e-06 9.26572841e-06\n",
      " 8.88757560e-06 9.77381994e-06 1.17053560e-05 9.48504399e-06\n",
      " 9.71634607e-06 7.68710873e-06 9.43409290e-06 8.23508777e-06\n",
      " 1.34591877e-05 7.76291880e-06 1.28246889e-05 8.01263763e-06\n",
      " 8.17376221e-06 1.04470427e-05 1.21108072e-05 9.27398185e-06\n",
      " 1.11902612e-05 7.23360916e-06 9.49975659e-06 6.22983558e-06\n",
      " 1.14564179e-05 9.05021486e-06 1.16160259e-05 9.25741633e-06\n",
      " 9.39554030e-06 9.39554030e-06 9.25741633e-06 1.16160259e-05\n",
      " 9.05021486e-06 1.14564179e-05 6.22983558e-06 9.49975659e-06\n",
      " 7.23360916e-06 1.11902612e-05 9.27398185e-06 1.21108072e-05\n",
      " 1.04470427e-05 8.17376221e-06 8.01263763e-06 1.28246889e-05\n",
      " 7.76291880e-06 1.34591877e-05 8.23508777e-06 9.43409290e-06\n",
      " 7.68710873e-06 9.71634607e-06 9.48504399e-06 1.17053560e-05\n",
      " 9.77381994e-06 8.88757560e-06 9.26572841e-06 7.79690669e-06\n",
      " 1.17611935e-05 7.96428854e-06 1.06075159e-05 8.40010131e-06\n",
      " 9.07022051e-06 8.15720430e-06 1.08921918e-05 1.00076567e-05\n",
      " 1.20770008e-05 8.14200022e-06 9.59897613e-06 8.04954624e-06\n",
      " 1.18056083e-05 8.66500930e-06 1.30305114e-05 8.81927483e-06\n",
      " 1.22889802e-05 1.01954351e-05 1.08545408e-05 1.23643326e-05\n",
      " 1.15626609e-05 1.27203434e-05 8.33429238e-06 9.48347798e-06\n",
      " 7.98036720e-06 3.27815698e-04 1.11016289e-02 1.35353118e-01\n",
      " 6.06535492e-01]\n"
     ]
    }
   ],
   "source": [
    "src = \"vids/basketball/00000001.jpg\"\n",
    "image = cv2.imread(src)\n",
    "region = [188.62,321.46,194.43,210.61,231.38,212.54,225.57,323.39]\n",
    "\n",
    "image = cv2.cvtColor(image, cv2.COLOR_BGR2GRAY)/255.0\n",
    "if len(region) == 8:\n",
    "    x_ = np.array(region[::2])\n",
    "    y_ = np.array(region[1::2])\n",
    "    region = [np.min(x_), np.min(y_), np.max(x_) - np.min(x_) + 1, np.max(y_) - np.min(y_) + 1]\n",
    "\n",
    "window = max(region[2], region[3])\n",
    "\n",
    "left = max(region[0], 0)\n",
    "top = max(region[1], 0)\n",
    "\n",
    "right = min(region[0] + region[2], image.shape[1] - 1)\n",
    "bottom = min(region[1] + region[3], image.shape[0] - 1)\n",
    "    \n",
    "position = (region[0] + region[2] / 2, region[1] + region[3] / 2)\n",
    "size = (int(region[2] * 1), int(region[3] * 1))\n",
    "\n",
    "width = size[0]\n",
    "height = size[1]\n",
    "\n",
    "#Size is width x height as required for both util functions\n",
    "\n",
    "print(size)\n",
    "\n",
    "template, mask = get_patch(image, position, size)\n",
    "print(template.shape)\n",
    "G = create_gauss_peak(size, 1)\n",
    "hanning_window = create_cosine_window(size)\n",
    "\n",
    "P = (template * hanning_window)\n",
    "\n",
    "P_hat = np.fft.fft2(P)\n",
    "P_hat_conjugate = np.conjugate(P_hat)\n",
    "G_hat = np.fft.fft2(G)\n",
    "\n",
    "H_hat_conjugate = (G_hat * P_hat_conjugate) / ((P_hat * P_hat_conjugate)+1e-5)\n",
    "\n",
    "H = np.fft.fft2(H_hat_conjugate).real\n",
    "\n",
    "R = np.fft.ifft2(H_hat_conjugate * P_hat).real\n",
    "print(f\"P_hat magnitude min: {np.abs(P_hat).min()}, max: {np.abs(P_hat).max()}\")\n",
    "print(f\"G_hat magnitude min: {np.abs(G_hat).min()}, max: {np.abs(G_hat).max()}\")\n",
    "cv2.imshow(\"R\", P)\n",
    "cv2.waitKey(0)\n",
    "cv2.destroyAllWindows()\n",
    "print(np.max(R, axis=1))"
   ]
  },
  {
   "cell_type": "code",
   "execution_count": 23,
   "metadata": {},
   "outputs": [
    {
     "name": "stdout",
     "output_type": "stream",
     "text": [
      "1 40\n",
      "18 57\n"
     ]
    }
   ],
   "source": [
    "src = \"vids/basketball/00000009.jpg\"\n",
    "image = cv2.imread(src)\n",
    "image = cv2.cvtColor(image, cv2.COLOR_BGR2GRAY)/255.0\n",
    "\n",
    "template, mask = get_patch(image, position, size)\n",
    "\n",
    "P = (template * hanning_window)\n",
    "\n",
    "P_hat = np.fft.fft2(P)\n",
    "R = np.fft.ifft2(H_hat_conjugate * P_hat).real\n",
    "\n",
    "x_old = width // 2\n",
    "y_old = height // 2\n",
    "\n",
    "\n",
    "y, x = np.unravel_index(R.argmax(), R.shape)\n",
    "print(y, x)\n",
    "\n",
    "if x > width / 2:\n",
    "    x = x - width\n",
    "\n",
    "if y > height / 2:\n",
    "    y = y - height\n",
    "\n",
    "x_new = x_old + x\n",
    "y_new = y_old + y\n",
    "\n",
    "print(x_new, y_new)\n",
    "\n",
    "cv2.imshow(\"R\", R)\n",
    "cv2.waitKey(0)\n",
    "cv2.destroyAllWindows()"
   ]
  }
 ],
 "metadata": {
  "kernelspec": {
   "display_name": "ACVM-P1",
   "language": "python",
   "name": "python3"
  },
  "language_info": {
   "codemirror_mode": {
    "name": "ipython",
    "version": 3
   },
   "file_extension": ".py",
   "mimetype": "text/x-python",
   "name": "python",
   "nbconvert_exporter": "python",
   "pygments_lexer": "ipython3",
   "version": "3.13.2"
  }
 },
 "nbformat": 4,
 "nbformat_minor": 2
}
